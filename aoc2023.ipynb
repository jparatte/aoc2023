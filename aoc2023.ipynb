{
 "cells": [
  {
   "cell_type": "markdown",
   "id": "f6509e01",
   "metadata": {},
   "source": [
    "# AOC 2023\n",
    "\n",
    "Welcome to the Advent of Code 2023!"
   ]
  },
  {
   "cell_type": "markdown",
   "id": "34c4327c",
   "metadata": {},
   "source": [
    "## Basic configuration"
   ]
  },
  {
   "cell_type": "code",
   "execution_count": null,
   "id": "67938f34",
   "metadata": {},
   "outputs": [],
   "source": [
    "!pip install aocd"
   ]
  },
  {
   "cell_type": "code",
   "execution_count": null,
   "id": "f9d98ade",
   "metadata": {},
   "outputs": [],
   "source": [
    "import os\n",
    "\n",
    "os.environ['AOC_SESSION'] = open('session.txt').read().strip()\n",
    "\n",
    "from aocd import submit\n",
    "from aocd.models import Puzzle"
   ]
  },
  {
   "cell_type": "markdown",
   "id": "1867ef79",
   "metadata": {},
   "source": [
    "## Day 23\n",
    "https://adventofcode.com/2023/day/23\n",
    "### Part 1"
   ]
  },
  {
   "cell_type": "code",
   "execution_count": null,
   "id": "8544afbc",
   "metadata": {},
   "outputs": [],
   "source": [
    "puzzle = Puzzle(2023, 23)"
   ]
  },
  {
   "cell_type": "markdown",
   "id": "db2f69ab",
   "metadata": {},
   "source": [
    "## Day 22\n",
    "https://adventofcode.com/2023/day/22\n",
    "### Part 1"
   ]
  },
  {
   "cell_type": "code",
   "execution_count": null,
   "id": "a56e96ca",
   "metadata": {},
   "outputs": [],
   "source": [
    "puzzle = Puzzle(2023, 22)"
   ]
  },
  {
   "cell_type": "markdown",
   "id": "6776ae62",
   "metadata": {},
   "source": [
    "## Day 21\n",
    "https://adventofcode.com/2023/day/21\n",
    "### Part 1"
   ]
  },
  {
   "cell_type": "code",
   "execution_count": null,
   "id": "3fee5165",
   "metadata": {},
   "outputs": [],
   "source": [
    "puzzle = Puzzle(2023, 21)"
   ]
  },
  {
   "cell_type": "markdown",
   "id": "d1cfa124",
   "metadata": {},
   "source": [
    "### Part 2"
   ]
  },
  {
   "cell_type": "markdown",
   "id": "3e923dd1",
   "metadata": {},
   "source": [
    "## Day 20\n",
    "https://adventofcode.com/2023/day/20\n",
    "### Part 1"
   ]
  },
  {
   "cell_type": "code",
   "execution_count": null,
   "id": "9bcb0be9",
   "metadata": {},
   "outputs": [],
   "source": [
    "puzzle = Puzzle(2023, 20)"
   ]
  },
  {
   "cell_type": "markdown",
   "id": "5074e63b",
   "metadata": {},
   "source": [
    "### Part 2"
   ]
  },
  {
   "cell_type": "markdown",
   "id": "b4dc0f48",
   "metadata": {},
   "source": [
    "## Day 19\n",
    "https://adventofcode.com/2023/day/19\n",
    "### Part 1"
   ]
  },
  {
   "cell_type": "code",
   "execution_count": null,
   "id": "5a9b3e2b",
   "metadata": {},
   "outputs": [],
   "source": [
    "puzzle = Puzzle(2023, 19)"
   ]
  },
  {
   "cell_type": "markdown",
   "id": "cc499de7",
   "metadata": {},
   "source": [
    "### Part 2"
   ]
  },
  {
   "cell_type": "markdown",
   "id": "81dcde6e",
   "metadata": {},
   "source": [
    "## Day 18\n",
    "https://adventofcode.com/2023/day/18\n",
    "### Part 1"
   ]
  },
  {
   "cell_type": "code",
   "execution_count": null,
   "id": "8ba434a8",
   "metadata": {},
   "outputs": [],
   "source": [
    "puzzle = Puzzle(2023, 18)"
   ]
  },
  {
   "cell_type": "markdown",
   "id": "07c7982c",
   "metadata": {},
   "source": [
    "### Part 2"
   ]
  },
  {
   "cell_type": "markdown",
   "id": "a62a3d78",
   "metadata": {},
   "source": [
    "## Day 17\n",
    "https://adventofcode.com/2023/day/17\n",
    "### Part 1"
   ]
  },
  {
   "cell_type": "code",
   "execution_count": null,
   "id": "c3b39b56",
   "metadata": {},
   "outputs": [],
   "source": [
    "puzzle = Puzzle(2023, 17)"
   ]
  },
  {
   "cell_type": "markdown",
   "id": "5a79f8f6",
   "metadata": {},
   "source": [
    "### Part 2"
   ]
  },
  {
   "cell_type": "markdown",
   "id": "72df1ef5",
   "metadata": {},
   "source": [
    "### Extra"
   ]
  },
  {
   "cell_type": "markdown",
   "id": "3fe14be0",
   "metadata": {},
   "source": [
    "## Day 16\n",
    "https://adventofcode.com/2023/day/16\n",
    "### Part 1"
   ]
  },
  {
   "cell_type": "code",
   "execution_count": null,
   "id": "81d4e25f",
   "metadata": {},
   "outputs": [],
   "source": [
    "puzzle = Puzzle(2023, 16)"
   ]
  },
  {
   "cell_type": "markdown",
   "id": "0efd30a8",
   "metadata": {},
   "source": [
    "### Part 2"
   ]
  },
  {
   "cell_type": "markdown",
   "id": "7d94d64d",
   "metadata": {},
   "source": [
    "## Day 15\n",
    "https://adventofcode.com/2023/day/15\n",
    "### Part 1"
   ]
  },
  {
   "cell_type": "code",
   "execution_count": null,
   "id": "ef37ea63",
   "metadata": {},
   "outputs": [],
   "source": [
    "puzzle = Puzzle(2023, 15)"
   ]
  },
  {
   "cell_type": "markdown",
   "id": "6f4797a2",
   "metadata": {},
   "source": [
    "### Part 2"
   ]
  },
  {
   "cell_type": "markdown",
   "id": "e048706f",
   "metadata": {},
   "source": [
    "## Day 14\n",
    "https://adventofcode.com/2023/day/14\n",
    "### Part 1"
   ]
  },
  {
   "cell_type": "code",
   "execution_count": null,
   "id": "476816e0",
   "metadata": {},
   "outputs": [],
   "source": [
    "puzzle = Puzzle(2023, 14)"
   ]
  },
  {
   "cell_type": "markdown",
   "id": "8a28638f",
   "metadata": {},
   "source": [
    "### Part 2"
   ]
  },
  {
   "cell_type": "markdown",
   "id": "1163a0c5",
   "metadata": {},
   "source": [
    "## Day 13\n",
    "https://adventofcode.com/2023/day/13\n",
    "### Part 1"
   ]
  },
  {
   "cell_type": "code",
   "execution_count": null,
   "id": "57108c0a",
   "metadata": {},
   "outputs": [],
   "source": [
    "puzzle = Puzzle(2023, 13)"
   ]
  },
  {
   "cell_type": "markdown",
   "id": "1038c61d",
   "metadata": {},
   "source": [
    "### Part 2"
   ]
  },
  {
   "cell_type": "markdown",
   "id": "a682a27a",
   "metadata": {},
   "source": [
    "## Day 12\n",
    "https://adventofcode.com/2023/day/12\n",
    "### Part 1"
   ]
  },
  {
   "cell_type": "code",
   "execution_count": null,
   "id": "66b3601e",
   "metadata": {},
   "outputs": [],
   "source": [
    "puzzle = Puzzle(2023, 12)\n",
    "lines = puzzle.input_data.split('\\n')"
   ]
  },
  {
   "cell_type": "markdown",
   "id": "ea3ddff2",
   "metadata": {},
   "source": [
    "### Part 1 (old, a la mano)"
   ]
  },
  {
   "cell_type": "markdown",
   "id": "2b887d43",
   "metadata": {},
   "source": [
    "### Part 2"
   ]
  },
  {
   "cell_type": "markdown",
   "id": "d2be259b",
   "metadata": {},
   "source": [
    "## Day 11\n",
    "https://adventofcode.com/2023/day/11\n",
    "### Part 1"
   ]
  },
  {
   "cell_type": "code",
   "execution_count": null,
   "id": "c54b8f5e",
   "metadata": {},
   "outputs": [],
   "source": [
    "puzzle = Puzzle(2023, 11)\n",
    "lines = puzzle.input_data.split('\\n')"
   ]
  },
  {
   "cell_type": "code",
   "execution_count": null,
   "id": "35af34ca",
   "metadata": {},
   "outputs": [],
   "source": [
    "import re\n",
    "\n",
    "stars = [(match.start(), y) for y, line in enumerate(lines) for match in re.finditer(r\"#\", line)]"
   ]
  },
  {
   "cell_type": "code",
   "execution_count": null,
   "id": "d4fa4080",
   "metadata": {},
   "outputs": [],
   "source": [
    "def l1(x0, y0, x1, y1):\n",
    "    return abs(x0 - x1)+abs(y0-y1)\n",
    "\n",
    "def expand(stars, off=2):\n",
    "    posx = sorted(set([x for (x, y) in stars]))\n",
    "    posy = sorted(set([y for (x, y) in stars]))\n",
    "\n",
    "    inter_x = sorted(set(range(max(posx))) - set(posx))\n",
    "\n",
    "    for idx, ix in enumerate(inter_x[::-1]):\n",
    "        new_stars = []\n",
    "        for (x, y) in stars:\n",
    "            new_stars.append((x+(off-1), y) if x > ix else (x, y))\n",
    "        stars = new_stars\n",
    "\n",
    "    inter_y = sorted(set(range(max(posy))) - set(posy))\n",
    "\n",
    "    for idx, iy in enumerate(inter_y[::-1]):\n",
    "        new_stars = []\n",
    "        for (x, y) in stars:\n",
    "            new_stars.append((x, y+(off-1)) if y > iy else (x, y))\n",
    "        stars = new_stars\n",
    "        \n",
    "    return stars"
   ]
  },
  {
   "cell_type": "code",
   "execution_count": null,
   "id": "6a453136",
   "metadata": {},
   "outputs": [],
   "source": [
    "new_stars = expand(stars)"
   ]
  },
  {
   "cell_type": "code",
   "execution_count": null,
   "id": "dae01a2c",
   "metadata": {},
   "outputs": [],
   "source": [
    "puzzle.answer_a = int(sum([sum(sorted(l1(x0, y0, x1, y1) for (x1, y1) in new_stars)[1:]) for x0, y0 in new_stars]) / 2)"
   ]
  },
  {
   "cell_type": "markdown",
   "id": "3d2913da",
   "metadata": {},
   "source": [
    "### Part 2"
   ]
  },
  {
   "cell_type": "code",
   "execution_count": null,
   "id": "c4dc44b9",
   "metadata": {},
   "outputs": [],
   "source": [
    "new_stars = expand(stars, 1000000)"
   ]
  },
  {
   "cell_type": "code",
   "execution_count": null,
   "id": "b6b25c4a",
   "metadata": {},
   "outputs": [],
   "source": [
    "puzzle.answer_b = int(sum([sum(sorted(l1(x0, y0, x1, y1) for (x1, y1) in new_stars)[1:]) for x0, y0 in new_stars]) / 2)"
   ]
  },
  {
   "cell_type": "markdown",
   "id": "d5109e59",
   "metadata": {},
   "source": [
    "## Day 10\n",
    "https://adventofcode.com/2023/day/10\n",
    "### Part 1"
   ]
  },
  {
   "cell_type": "code",
   "execution_count": null,
   "id": "5aa2d8c4",
   "metadata": {},
   "outputs": [],
   "source": [
    "puzzle = Puzzle(2023, 10)"
   ]
  },
  {
   "cell_type": "code",
   "execution_count": null,
   "id": "d9610872",
   "metadata": {},
   "outputs": [],
   "source": [
    "lines = puzzle.input_data.split('\\n')"
   ]
  },
  {
   "cell_type": "code",
   "execution_count": null,
   "id": "4bd1be4d",
   "metadata": {},
   "outputs": [],
   "source": [
    "from collections import defaultdict\n",
    "\n",
    "pipes = defaultdict(lambda : defaultdict(set))\n",
    "map_ = defaultdict(lambda : defaultdict(lambda : '.'))\n",
    "\n",
    "for y, line in enumerate(lines):\n",
    "    for x, char in enumerate(line):\n",
    "        map_[x][y] = char\n",
    "        match char:\n",
    "            case \"|\":\n",
    "                pipes[x][y] = set([(x, y-1), (x, y+1)])\n",
    "            case \"-\":\n",
    "                pipes[x][y] = set([(x-1, y), (x+1, y)])\n",
    "            case \"L\":\n",
    "                pipes[x][y] = set([(x, y-1), (x+1, y)])\n",
    "            case \"J\":\n",
    "                pipes[x][y] = set([(x, y-1), (x-1, y)])\n",
    "            case \"7\":\n",
    "                pipes[x][y] = set([(x, y+1), (x-1, y)])\n",
    "            case \"F\":\n",
    "                pipes[x][y] = set([(x, y+1), (x+1, y)])\n",
    "            case \"S\":\n",
    "                spos = (x, y)"
   ]
  },
  {
   "cell_type": "code",
   "execution_count": null,
   "id": "673b7a31",
   "metadata": {},
   "outputs": [],
   "source": [
    "xs, ys = spos\n",
    "\n",
    "loop = set([spos])\n",
    "\n",
    "for dx in [-1, 1]:\n",
    "    if spos in pipes[xs + dx][ys]:\n",
    "        loop.add((xs + dx, ys))\n",
    "for dy in [-1, 1]:\n",
    "    if spos in pipes[xs][ys + dy]:\n",
    "        loop.add((xs, ys + dy))\n",
    "if not len(loop) == 3:\n",
    "    print(\"Error\")"
   ]
  },
  {
   "cell_type": "code",
   "execution_count": null,
   "id": "e0043169",
   "metadata": {},
   "outputs": [],
   "source": [
    "xs, ys = spos\n",
    "\n",
    "def find_shape(x, y):\n",
    "    if len(set([(x, y-1), (x, y+1)]) & loop) == 2:\n",
    "        return \"|\"\n",
    "    if len(set([(x-1, y), (x+1, y)]) & loop) == 2:\n",
    "        return \"-\"\n",
    "    if len(set([(x, y-1), (x+1, y)]) & loop) == 2:\n",
    "        return \"L\"\n",
    "    if len(set([(x, y-1), (x-1, y)]) & loop) == 2:\n",
    "        return \"J\"\n",
    "    if len(set([(x, y+1), (x-1, y)]) & loop) == 2:\n",
    "        return \"7\"\n",
    "    if len(set([(x, y+1), (x+1, y)]) & loop) == 2:\n",
    "        return \"F\"\n",
    "\n",
    "map_[xs][ys] = find_shape(xs, ys)"
   ]
  },
  {
   "cell_type": "code",
   "execution_count": null,
   "id": "e7581b78",
   "metadata": {},
   "outputs": [],
   "source": [
    "xl, yl = list(loop - {spos})[-1]\n",
    "\n",
    "while True:\n",
    "    next_pipe = pipes[xl][yl] - loop\n",
    "    if not next_pipe:\n",
    "        break\n",
    "    if not len(next_pipe) == 1:\n",
    "        print(\"Error\")\n",
    "    xl, yl = list(next_pipe)[0]\n",
    "    loop = loop | next_pipe"
   ]
  },
  {
   "cell_type": "code",
   "execution_count": null,
   "id": "dddc5906",
   "metadata": {},
   "outputs": [],
   "source": [
    "puzzle.answer_a = int(len(loop) / 2)"
   ]
  },
  {
   "cell_type": "markdown",
   "id": "0d3ac075",
   "metadata": {},
   "source": [
    "### Part 2"
   ]
  },
  {
   "cell_type": "code",
   "execution_count": null,
   "id": "1d3a8aed",
   "metadata": {},
   "outputs": [],
   "source": [
    "in_pts = set()\n",
    "\n",
    "for y in range(len(lines)):\n",
    "    out = True\n",
    "    on_loop = False\n",
    "\n",
    "    for x in range(-1, len(lines[0])):\n",
    "        if (x, y) in loop:\n",
    "            char = map_[x][y]\n",
    "            \n",
    "            if char == '|':\n",
    "                out = not out\n",
    "            else:\n",
    "                if not on_loop:\n",
    "                    if char in {'F', 'L'}:\n",
    "                        in_char = char\n",
    "                        on_loop = True\n",
    "                else:\n",
    "                    if (in_char == 'F') and (char == 'J'):\n",
    "                            out = not out\n",
    "                    elif (in_char == 'L') and (char == '7'):\n",
    "                            out = not out\n",
    "                    if char in  {'J', '7'}:\n",
    "                        on_loop = False\n",
    "        else:\n",
    "            if not out:\n",
    "                in_pts.add((x, y))"
   ]
  },
  {
   "cell_type": "code",
   "execution_count": null,
   "id": "436e0e60",
   "metadata": {},
   "outputs": [],
   "source": [
    "puzzle.answer_b = len(in_pts)"
   ]
  },
  {
   "cell_type": "markdown",
   "id": "3b5f93e6",
   "metadata": {},
   "source": [
    "## Day 9\n",
    "https://adventofcode.com/2023/day/9\n",
    "### Part 1"
   ]
  },
  {
   "cell_type": "code",
   "execution_count": null,
   "id": "2466da91",
   "metadata": {},
   "outputs": [],
   "source": [
    "puzzle = Puzzle(2023, 9)\n",
    "lines = [list(map(int, line.split())) for line in puzzle.input_data.split('\\n')]"
   ]
  },
  {
   "cell_type": "code",
   "execution_count": null,
   "id": "68de5dc5",
   "metadata": {},
   "outputs": [],
   "source": [
    "from itertools import pairwise\n",
    "\n",
    "def recurse(line):\n",
    "    diff = [int(b-a) for a, b in pairwise(line)]\n",
    "    if sum(diff) == 0:\n",
    "        return line[-1]\n",
    "    return line[-1] + recurse(diff)"
   ]
  },
  {
   "cell_type": "code",
   "execution_count": null,
   "id": "f9ecd109",
   "metadata": {},
   "outputs": [],
   "source": [
    "puzzle.answer_a = sum(recurse(line) for line in lines)"
   ]
  },
  {
   "cell_type": "markdown",
   "id": "1e4a5bce",
   "metadata": {},
   "source": [
    "### Part 2"
   ]
  },
  {
   "cell_type": "code",
   "execution_count": null,
   "id": "07765203",
   "metadata": {},
   "outputs": [],
   "source": [
    "def recurse_back(line):\n",
    "    diff = [int(b-a) for a, b in pairwise(line)]\n",
    "    if sum(diff) == 0:\n",
    "        return line[0]\n",
    "    return line[0] - recurse_back(diff)"
   ]
  },
  {
   "cell_type": "code",
   "execution_count": null,
   "id": "8423f99e",
   "metadata": {},
   "outputs": [],
   "source": [
    "puzzle.answer_b = sum(recurse_back(line) for line in lines)"
   ]
  },
  {
   "cell_type": "markdown",
   "id": "50ceba4c",
   "metadata": {},
   "source": [
    "### Extra"
   ]
  },
  {
   "cell_type": "markdown",
   "id": "32daee6b",
   "metadata": {},
   "source": [
    "## Day 8\n",
    "https://adventofcode.com/2023/day/8\n",
    "### Part 1"
   ]
  },
  {
   "cell_type": "code",
   "execution_count": null,
   "id": "3ae74ba8",
   "metadata": {},
   "outputs": [],
   "source": [
    "puzzle = Puzzle(2023, 8)"
   ]
  },
  {
   "cell_type": "code",
   "execution_count": null,
   "id": "095d1c6b",
   "metadata": {},
   "outputs": [],
   "source": [
    "directions, nodes = puzzle.input_data.split('\\n\\n')"
   ]
  },
  {
   "cell_type": "code",
   "execution_count": null,
   "id": "ea8bcdb7",
   "metadata": {},
   "outputs": [],
   "source": [
    "import re\n",
    "\n",
    "map_ = {}\n",
    "\n",
    "for node in nodes.split('\\n'):\n",
    "    key, left, right = re.match(r\"(\\w+) = \\((\\w+), (\\w+)\\)\", node).groups()\n",
    "    \n",
    "    map_[key] = (left, right)"
   ]
  },
  {
   "cell_type": "code",
   "execution_count": null,
   "id": "a3cf5431",
   "metadata": {},
   "outputs": [],
   "source": [
    "from itertools import cycle\n",
    "\n",
    "node = 'AAA'\n",
    "steps = 0\n",
    "\n",
    "for direction in cycle(directions):\n",
    "    steps += 1\n",
    "    next_node = map_[node][0] if direction == 'L' else map_[node][1]\n",
    "    if next_node == 'ZZZ':\n",
    "        break\n",
    "    node = next_node"
   ]
  },
  {
   "cell_type": "code",
   "execution_count": null,
   "id": "e6ff73e9",
   "metadata": {},
   "outputs": [],
   "source": [
    "puzzle.answer_a = steps"
   ]
  },
  {
   "cell_type": "markdown",
   "id": "061785fb",
   "metadata": {},
   "source": [
    "### Part 2"
   ]
  },
  {
   "cell_type": "code",
   "execution_count": null,
   "id": "9682b535",
   "metadata": {},
   "outputs": [],
   "source": [
    "starting_nodes = [node for node in map_.keys() if node[-1]=='A']\n",
    "ending_nodes = set(node for node in map_.keys() if node[-1]=='Z')"
   ]
  },
  {
   "cell_type": "code",
   "execution_count": null,
   "id": "7ebd3223",
   "metadata": {},
   "outputs": [],
   "source": [
    "def run_(node):\n",
    "    steps = 0\n",
    "    for direction in cycle(directions):\n",
    "        steps += 1\n",
    "        next_node = map_[node][0] if direction == 'L' else map_[node][1]\n",
    "        if next_node in ending_nodes:\n",
    "            break\n",
    "        node = next_node\n",
    "    return steps"
   ]
  },
  {
   "cell_type": "code",
   "execution_count": null,
   "id": "6f26bc2d",
   "metadata": {},
   "outputs": [],
   "source": [
    "import math\n",
    "\n",
    "dists = [run_(node) for node in starting_nodes]\n",
    "\n",
    "puzzle.answer_b = math.lcm(*dists)"
   ]
  },
  {
   "cell_type": "markdown",
   "id": "89cc70f5",
   "metadata": {},
   "source": [
    "### Extra"
   ]
  },
  {
   "cell_type": "markdown",
   "id": "fcd42fdd",
   "metadata": {},
   "source": [
    "## Day 7\n",
    "https://adventofcode.com/2023/day/7\n",
    "### Part 1"
   ]
  },
  {
   "cell_type": "code",
   "execution_count": null,
   "id": "c0a48b94",
   "metadata": {},
   "outputs": [],
   "source": [
    "puzzle = Puzzle(2023, 7)\n",
    "lines = puzzle.input_data.split('\\n')"
   ]
  },
  {
   "cell_type": "code",
   "execution_count": null,
   "id": "b0fcccad",
   "metadata": {},
   "outputs": [],
   "source": [
    "line = lines[0]\n",
    "hands = [line.split() for line in lines]\n",
    "hands = [(hand, int(bid)) for hand, bid in hands]"
   ]
  },
  {
   "cell_type": "code",
   "execution_count": null,
   "id": "57e42103",
   "metadata": {},
   "outputs": [],
   "source": [
    "from collections import Counter\n",
    "\n",
    "def base_rank(hand):\n",
    "    return sum([val*2**(5-idx) for idx, val in enumerate(sorted(Counter(hand).values(), reverse=True))])\n",
    "\n",
    "def break_tie(h1, h2):\n",
    "    for c1, c2 in zip(h1, h2):\n",
    "        if c1 != c2:\n",
    "            if map_table[c1] > map_table[c2]:\n",
    "                return -1\n",
    "            return 1\n",
    "    return 0"
   ]
  },
  {
   "cell_type": "code",
   "execution_count": null,
   "id": "3d2db6ee",
   "metadata": {},
   "outputs": [],
   "source": [
    "from functools import cmp_to_key\n",
    "\n",
    "map_table = {ch: idx for idx, ch in enumerate(['A', 'K', 'Q', 'J', 'T'] + [str(nb) for nb in range(9,1,-1)])}\n",
    "\n",
    "def sort_comp(c1, c2):\n",
    "    (h1, b1), (h2, b2) = c1, c2\n",
    "    return comp_hands(h1, h2)\n",
    "\n",
    "def comp_hands(h1, h2):\n",
    "    br1, br2 = base_rank(h1), base_rank(h2)\n",
    "    if br1 == br2:\n",
    "        return break_tie(h1, h2)\n",
    "    if br1 > br2:\n",
    "        return 1\n",
    "    return -1\n"
   ]
  },
  {
   "cell_type": "code",
   "execution_count": null,
   "id": "b880894e",
   "metadata": {},
   "outputs": [],
   "source": [
    "puzzle.answer_a = sum((idx+1)*bid for idx, (_, bid) in enumerate(sorted(hands, key=cmp_to_key(sort_comp))))"
   ]
  },
  {
   "cell_type": "markdown",
   "id": "18cb765f",
   "metadata": {},
   "source": [
    "### Part 2"
   ]
  },
  {
   "cell_type": "code",
   "execution_count": null,
   "id": "f0584865",
   "metadata": {},
   "outputs": [],
   "source": [
    "from itertools import product\n",
    "\n",
    "map_table = {ch: idx for idx, ch in enumerate(['A', 'K', 'Q', 'T'] + [str(nb) for nb in range(9,1,-1)] + ['J'])}\n",
    "\n",
    "def best_hand(hand):\n",
    "    cj = Counter(hand)['J']\n",
    "\n",
    "    if cj > 0:\n",
    "        new_hand = hand.replace(\"J\", \"\")\n",
    "        return max([\"\".join(list(new_hand) + list(jokers)) for jokers in product(map_table.keys() - 'J', repeat=cj)], key=cmp_to_key(comp_hands))\n",
    "    return hand\n",
    "\n",
    "def comp_hands(h1, h2):\n",
    "    br1, br2 = base_rank(best_hand(h1)), base_rank(best_hand(h2))\n",
    "    if br1 == br2:\n",
    "        return break_tie(h1, h2)\n",
    "    if br1 > br2:\n",
    "        return 1\n",
    "    return -1"
   ]
  },
  {
   "cell_type": "code",
   "execution_count": null,
   "id": "9af15d60",
   "metadata": {},
   "outputs": [],
   "source": [
    "puzzle.answer_b = sum((idx+1)*bid for idx, (_, bid) in enumerate(sorted(hands, key=cmp_to_key(sort_comp))))"
   ]
  },
  {
   "cell_type": "markdown",
   "id": "fdb1635c",
   "metadata": {},
   "source": [
    "## Day 6\n",
    "https://adventofcode.com/2023/day/6\n",
    "### Part 1"
   ]
  },
  {
   "cell_type": "code",
   "execution_count": null,
   "id": "b1de3906",
   "metadata": {},
   "outputs": [],
   "source": [
    "puzzle = Puzzle(2023, 6)"
   ]
  },
  {
   "cell_type": "code",
   "execution_count": null,
   "id": "67c70088",
   "metadata": {},
   "outputs": [],
   "source": [
    "lines = puzzle.input_data.split('\\n')"
   ]
  },
  {
   "cell_type": "code",
   "execution_count": null,
   "id": "943a8bb6",
   "metadata": {},
   "outputs": [],
   "source": [
    "import re\n",
    "times = [int(val) for val in re.findall(r\"(\\d+)\", lines[0])]\n",
    "distances = [int(val) for val in re.findall(r\"(\\d+)\", lines[1])]"
   ]
  },
  {
   "cell_type": "code",
   "execution_count": null,
   "id": "923306d4",
   "metadata": {},
   "outputs": [],
   "source": [
    "import math\n",
    "\n",
    "def solve(tmax, dmax):\n",
    "    sdelta = math.sqrt(tmax**2 - 4*dmax)\n",
    "    return math.floor((tmax + sdelta) / 2.0) - math.floor((tmax - sdelta) / 2.0)"
   ]
  },
  {
   "cell_type": "code",
   "execution_count": null,
   "id": "f0c44208",
   "metadata": {},
   "outputs": [],
   "source": [
    "from functools import reduce\n",
    "\n",
    "puzzle.answer_a = reduce(lambda x,y : x*y, [solve(tmax, dmax) for tmax, dmax in zip(times, distances)])"
   ]
  },
  {
   "cell_type": "markdown",
   "id": "85992930",
   "metadata": {},
   "source": [
    "### Part 2"
   ]
  },
  {
   "cell_type": "code",
   "execution_count": null,
   "id": "ce59ab63",
   "metadata": {},
   "outputs": [],
   "source": [
    "tmax = int(\"\".join(str(t) for t in times))\n",
    "dmax = int(\"\".join(str(d) for d in distances))"
   ]
  },
  {
   "cell_type": "code",
   "execution_count": null,
   "id": "c8cdfde0",
   "metadata": {},
   "outputs": [],
   "source": [
    "puzzle.answer_b = solve(tmax, dmax)"
   ]
  },
  {
   "cell_type": "markdown",
   "id": "cb23cbc0",
   "metadata": {},
   "source": [
    "## Day 5\n",
    "https://adventofcode.com/2023/day/5\n",
    "### Part 1"
   ]
  },
  {
   "cell_type": "code",
   "execution_count": null,
   "id": "026b1a0f",
   "metadata": {},
   "outputs": [],
   "source": [
    "puzzle = Puzzle(2023, 5)\n",
    "parts = puzzle.input_data.split('\\n\\n')"
   ]
  },
  {
   "cell_type": "code",
   "execution_count": null,
   "id": "9f1e0941",
   "metadata": {},
   "outputs": [],
   "source": [
    "import re\n",
    "\n",
    "def parse_input(parts):\n",
    "    steps = []\n",
    "\n",
    "    seeds = [int(nb) for nb in re.findall(r\"(\\d+)\", parts[0])]\n",
    "\n",
    "    for part in parts[1:]:\n",
    "        steps.append([list(map(lambda val: int(val), re.findall(r\"(\\d+)\", line))) for line in part.split('\\n')[1:]])\n",
    "    \n",
    "    return seeds, steps"
   ]
  },
  {
   "cell_type": "code",
   "execution_count": null,
   "id": "d032b53e",
   "metadata": {},
   "outputs": [],
   "source": [
    "def propagate(seeds, steps):\n",
    "\n",
    "    for step in steps:\n",
    "        new_seeds = []\n",
    "        for seed in seeds:\n",
    "            for dst_rs, src_rs, span in step:\n",
    "                if src_rs <= seed < src_rs + span:\n",
    "                    new_seeds.append(seed - src_rs + dst_rs)\n",
    "                    break\n",
    "            else:\n",
    "                new_seeds.append(seed)\n",
    "        seeds = new_seeds\n",
    "    return seeds"
   ]
  },
  {
   "cell_type": "code",
   "execution_count": null,
   "id": "d5cbea53",
   "metadata": {},
   "outputs": [],
   "source": [
    "seeds, steps = parse_input(parts)\n",
    "seeds = propagate(seeds, steps)"
   ]
  },
  {
   "cell_type": "code",
   "execution_count": null,
   "id": "a444f87f",
   "metadata": {},
   "outputs": [],
   "source": [
    "puzzle.answer_a = min(seeds)"
   ]
  },
  {
   "cell_type": "markdown",
   "id": "b108d9e0",
   "metadata": {},
   "source": [
    "### Part 2"
   ]
  },
  {
   "cell_type": "code",
   "execution_count": null,
   "id": "45799b71",
   "metadata": {},
   "outputs": [],
   "source": [
    "def intersect(r1, r2):\n",
    "    (r1_s, r1_e), (r2_s, r2_e) = r1, r2\n",
    "    \n",
    "    if r1_s > r2_e or r1_e < r2_s:\n",
    "        return ()\n",
    "    \n",
    "    return (max(r1_s, r2_s), min(r1_e, r2_e))\n",
    "\n",
    "def compute_sections(ss, se, step):\n",
    "    \n",
    "    sections = []\n",
    "\n",
    "    for (dst_rs, src_rs, span) in sorted(step, key=lambda t: t[1]):\n",
    "        ds, de = src_rs, src_rs + span - 1\n",
    "        delta = dst_rs - src_rs\n",
    "\n",
    "        inter = intersect((ss, se), (ds, de))\n",
    "        if inter:\n",
    "            sections.append((inter, delta))\n",
    "            \n",
    "    return sections\n",
    "\n",
    "\n",
    "def propagate_forward(ss, se, sections):\n",
    "    new_seeds = []\n",
    "\n",
    "    for ((section_start, section_end), delta) in sections:\n",
    "        if ss < section_start:\n",
    "            new_seeds.append((ss, section_start-1))\n",
    "\n",
    "        new_seeds.append((section_start+delta, section_end+delta))\n",
    "\n",
    "        ss = section_end + 1\n",
    "\n",
    "    if ss < se:\n",
    "        new_seeds.append((ss, se))\n",
    "        \n",
    "    return new_seeds"
   ]
  },
  {
   "cell_type": "code",
   "execution_count": null,
   "id": "d0996adc",
   "metadata": {},
   "outputs": [],
   "source": [
    "seeds, steps = parse_input(parts)\n",
    "ranges = [(sstart, sstart + length - 1) for sstart, length in zip(seeds[:-1:2], seeds[1::2])]\n",
    "\n",
    "for step in steps:\n",
    "    new_ranges = []\n",
    "\n",
    "    for ss, se in ranges:\n",
    "        sections = compute_sections(ss, se, step)\n",
    "        new_ranges.extend(propagate_forward(ss, se, sections))\n",
    "\n",
    "    ranges = new_ranges"
   ]
  },
  {
   "cell_type": "code",
   "execution_count": null,
   "id": "51484b25",
   "metadata": {},
   "outputs": [],
   "source": [
    "puzzle.answer_b = min(rs for rs, _ in ranges)"
   ]
  },
  {
   "cell_type": "markdown",
   "id": "9008ba61",
   "metadata": {},
   "source": [
    "## Day 4\n",
    "https://adventofcode.com/2023/day/4\n",
    "### Part 1"
   ]
  },
  {
   "cell_type": "code",
   "execution_count": null,
   "id": "ccf9156c",
   "metadata": {},
   "outputs": [],
   "source": [
    "puzzle = Puzzle(2023, 4)\n",
    "lines = puzzle.input_data.split('\\n')"
   ]
  },
  {
   "cell_type": "code",
   "execution_count": null,
   "id": "93440488",
   "metadata": {},
   "outputs": [],
   "source": [
    "import re\n",
    "\n",
    "def parse_line(line):\n",
    "    id_, win_nb, my_nb = re.match(r\"Card\\s+(\\d+):(.*?)\\|(.*)\", line).groups()\n",
    "    common = set(int(nb) for nb in re.findall(\"(\\d+)\", win_nb)) & set(int(nb) for nb in re.findall(\"(\\d+)\", my_nb))\n",
    "    return int(id_), common\n",
    "\n",
    "def score_line(line):\n",
    "    _, common = parse_line(line)\n",
    "    return 2**(len(common)-1) if common else 0\n"
   ]
  },
  {
   "cell_type": "code",
   "execution_count": null,
   "id": "117f63a9",
   "metadata": {},
   "outputs": [],
   "source": [
    "puzzle.answer_a = sum(score_line(line) for line in lines)"
   ]
  },
  {
   "cell_type": "markdown",
   "id": "36669534",
   "metadata": {},
   "source": [
    "### Part 2"
   ]
  },
  {
   "cell_type": "code",
   "execution_count": null,
   "id": "1d6fd1fe",
   "metadata": {},
   "outputs": [],
   "source": [
    "from collections import Counter\n",
    "\n",
    "def count_line(line):\n",
    "    id_, common = parse_line(line)\n",
    "    return id_, len(common)\n",
    "\n",
    "\n",
    "max_cid = len(lines)+1\n",
    "\n",
    "count = Counter(range(1, max_cid))\n",
    "\n",
    "for line in lines:\n",
    "    cid, score = count_line(line)\n",
    "    for next_id in range(cid+1, cid+score+1):\n",
    "        if next_id <= max_cid:\n",
    "            count[next_id] += count[cid]"
   ]
  },
  {
   "cell_type": "code",
   "execution_count": null,
   "id": "6e74c405",
   "metadata": {},
   "outputs": [],
   "source": [
    "puzzle.answer_b = sum(count.values())"
   ]
  },
  {
   "cell_type": "markdown",
   "id": "c00d46e9",
   "metadata": {},
   "source": [
    "## Day 3\n",
    "https://adventofcode.com/2023/day/3\n",
    "### Part 1"
   ]
  },
  {
   "cell_type": "code",
   "execution_count": null,
   "id": "4e5e73b9",
   "metadata": {},
   "outputs": [],
   "source": [
    "puzzle = Puzzle(2023, 3)\n",
    "lines = puzzle.input_data.split('\\n')"
   ]
  },
  {
   "cell_type": "code",
   "execution_count": null,
   "id": "e8207a65",
   "metadata": {},
   "outputs": [],
   "source": [
    "import re\n",
    "from collections import defaultdict\n",
    "\n",
    "symbols = defaultdict(lambda : defaultdict(int))\n",
    "\n",
    "numbers = []\n",
    "\n",
    "for ridx, line in enumerate(lines):\n",
    "    for match in re.finditer(r\"(\\d+)\", line):\n",
    "        numbers.append((int(match.groups()[0]), ridx, match.start(), match.end()))\n",
    "        \n",
    "    for cidx, char in enumerate(line):\n",
    "        if not re.match(r\"\\.|[0-9]\", char):\n",
    "            symbols[ridx][cidx] = 1"
   ]
  },
  {
   "cell_type": "code",
   "execution_count": null,
   "id": "5fe55da9",
   "metadata": {},
   "outputs": [],
   "source": [
    "s = 0\n",
    "\n",
    "for nb, ridx, cstart, cend in numbers:\n",
    "    if sum(symbols[row][col] for row in range(ridx-1, ridx+2) for col in range(cstart-1, cend+1)) > 0:\n",
    "        s += nb"
   ]
  },
  {
   "cell_type": "code",
   "execution_count": null,
   "id": "4f78f9a0",
   "metadata": {},
   "outputs": [],
   "source": [
    "puzzle.answer_a = s"
   ]
  },
  {
   "cell_type": "markdown",
   "id": "f2b627b4",
   "metadata": {},
   "source": [
    "### Part 2"
   ]
  },
  {
   "cell_type": "code",
   "execution_count": null,
   "id": "aa184bad",
   "metadata": {},
   "outputs": [],
   "source": [
    "nb_map = {(nb, row, cstart): set([(row, col) for col in range(cstart, cend)]) for nb, row, cstart, cend in numbers }\n",
    "\n",
    "gear_map = []\n",
    "for ridx, line in enumerate(lines):\n",
    "    for cidx, char in enumerate(line):\n",
    "        if char == '*':\n",
    "            gear_map.append(set([(row, col) for row in range(ridx-1, ridx+2) for col in range(cidx-1, cidx+2)]))"
   ]
  },
  {
   "cell_type": "code",
   "execution_count": null,
   "id": "16a506cd",
   "metadata": {},
   "outputs": [],
   "source": [
    "s = 0\n",
    "for gear_set in gear_map:\n",
    "    gear_numbers = [nb for ((nb, _, _), nb_set) in nb_map.items() if nb_set & gear_set]\n",
    "    if len(gear_numbers) == 2:\n",
    "        s += gear_numbers[0]*gear_numbers[1]"
   ]
  },
  {
   "cell_type": "code",
   "execution_count": null,
   "id": "71d8ff59",
   "metadata": {},
   "outputs": [],
   "source": [
    "puzzle.answer_b = s"
   ]
  },
  {
   "cell_type": "markdown",
   "id": "9b910d15",
   "metadata": {},
   "source": [
    "## Day 2\n",
    "https://adventofcode.com/2023/day/2\n",
    "### Part 1"
   ]
  },
  {
   "cell_type": "code",
   "execution_count": null,
   "id": "84fdf174",
   "metadata": {},
   "outputs": [],
   "source": [
    "puzzle = Puzzle(2023, 2)\n",
    "lines = puzzle.input_data.split('\\n')"
   ]
  },
  {
   "cell_type": "code",
   "execution_count": null,
   "id": "d0055722",
   "metadata": {},
   "outputs": [],
   "source": [
    "import re\n",
    "\n",
    "balls = {'red': 12, 'green': 13, 'blue': 14}\n",
    "\n",
    "def game_valid(line):\n",
    "    id_, games = re.match(r\"Game (\\d+):(.*)\", line).groups()\n",
    "    valid = not any(any(int(nb_) > balls[color] for (_, nb_, color) in re.findall(r\"((\\d+) (red|green|blue))\", draw)) for draw in games.split(';'))\n",
    "    return int(id_), valid"
   ]
  },
  {
   "cell_type": "code",
   "execution_count": null,
   "id": "b66002b4",
   "metadata": {},
   "outputs": [],
   "source": [
    "puzzle.answer_a = sum(id_ for (id_, valid_) in [game_valid(line) for line in lines] if valid_)"
   ]
  },
  {
   "cell_type": "markdown",
   "id": "1876ec15",
   "metadata": {},
   "source": [
    "### Part 2"
   ]
  },
  {
   "cell_type": "code",
   "execution_count": null,
   "id": "7eeccd96",
   "metadata": {},
   "outputs": [],
   "source": [
    "from functools import reduce\n",
    "\n",
    "def game_power(line):\n",
    "    id_, games = re.match(r\"Game (\\d+):(.*)\", line).groups()\n",
    "    return reduce(lambda x, y : x*y, [max( int(count) for (_, count, _) in re.findall(fr\"((\\d+) ({color}))\", line) ) for color in balls.keys()])"
   ]
  },
  {
   "cell_type": "code",
   "execution_count": null,
   "id": "1e749cb9",
   "metadata": {},
   "outputs": [],
   "source": [
    "puzzle.answer_b = sum(game_power(line) for line in lines)"
   ]
  },
  {
   "cell_type": "markdown",
   "id": "637b7e39",
   "metadata": {},
   "source": [
    "## Day 1\n",
    "https://adventofcode.com/2023/day/1\n",
    "### Part 1"
   ]
  },
  {
   "cell_type": "code",
   "execution_count": null,
   "id": "75254cc5",
   "metadata": {},
   "outputs": [],
   "source": [
    "puzzle = Puzzle(2023, 1)"
   ]
  },
  {
   "cell_type": "code",
   "execution_count": null,
   "id": "5c49944d",
   "metadata": {},
   "outputs": [],
   "source": [
    "lines = puzzle.input_data.split('\\n')"
   ]
  },
  {
   "cell_type": "code",
   "execution_count": null,
   "id": "ae667da0",
   "metadata": {},
   "outputs": [],
   "source": [
    "import re\n",
    "\n",
    "s = 0\n",
    "\n",
    "for line in lines:\n",
    "    digits = re.sub(r\"[a-z]\", \"\", line)\n",
    "    s += int(digits[0])*10+int(digits[-1])"
   ]
  },
  {
   "cell_type": "code",
   "execution_count": null,
   "id": "46bebe4a",
   "metadata": {},
   "outputs": [],
   "source": [
    "answer_a = s"
   ]
  },
  {
   "cell_type": "code",
   "execution_count": null,
   "id": "6f442ff8",
   "metadata": {},
   "outputs": [],
   "source": [
    "puzzle.answer_a = answer_a"
   ]
  },
  {
   "cell_type": "markdown",
   "id": "54aaddfe",
   "metadata": {},
   "source": [
    "### Part 2"
   ]
  },
  {
   "cell_type": "code",
   "execution_count": null,
   "id": "15fc9141",
   "metadata": {},
   "outputs": [],
   "source": [
    "!pip install regex"
   ]
  },
  {
   "cell_type": "code",
   "execution_count": null,
   "id": "8153c368",
   "metadata": {},
   "outputs": [],
   "source": [
    "spelled_digits = [\"one\", \"two\", \"three\", \"four\", \"five\", \"six\", \"seven\", \"eight\", \"nine\"]\n",
    "dig_map = {d: idx+1 for idx, d in enumerate(spelled_digits)}"
   ]
  },
  {
   "cell_type": "code",
   "execution_count": null,
   "id": "5b414a7b",
   "metadata": {},
   "outputs": [],
   "source": [
    "import regex\n",
    "\n",
    "s = 0\n",
    "\n",
    "reg = regex.compile(f\"(.*?)(({'|'.join(spelled_digits)})|[1-9])\")\n",
    "\n",
    "for line in lines:\n",
    "    matches = regex.findall(reg, line, overlapped=True)\n",
    "    d0, d1 = matches[0][1], matches[-1][1]\n",
    "    d0 = dig_map[d0] if d0 in dig_map else d0\n",
    "    d1 = dig_map[d1] if d1 in dig_map else d1\n",
    "    s += int(d0)*10 + int(d1)"
   ]
  },
  {
   "cell_type": "code",
   "execution_count": null,
   "id": "0c172ea5",
   "metadata": {},
   "outputs": [],
   "source": [
    "answer_b = s\n",
    "puzzle.answer_b = answer_b"
   ]
  }
 ],
 "metadata": {
  "kernelspec": {
   "display_name": "Python 3 (ipykernel)",
   "language": "python",
   "name": "python3"
  },
  "language_info": {
   "codemirror_mode": {
    "name": "ipython",
    "version": 3
   },
   "file_extension": ".py",
   "mimetype": "text/x-python",
   "name": "python",
   "nbconvert_exporter": "python",
   "pygments_lexer": "ipython3",
   "version": "3.11.5"
  },
  "toc": {
   "base_numbering": 1,
   "nav_menu": {},
   "number_sections": true,
   "sideBar": true,
   "skip_h1_title": false,
   "title_cell": "Table of Contents",
   "title_sidebar": "Contents",
   "toc_cell": false,
   "toc_position": {},
   "toc_section_display": true,
   "toc_window_display": false
  }
 },
 "nbformat": 4,
 "nbformat_minor": 5
}
