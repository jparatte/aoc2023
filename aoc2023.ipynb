{
 "cells": [
  {
   "cell_type": "markdown",
   "id": "f6509e01",
   "metadata": {},
   "source": [
    "# AOC 2023\n",
    "\n",
    "Welcome to the Advent of Code 2023!"
   ]
  },
  {
   "cell_type": "markdown",
   "id": "34c4327c",
   "metadata": {},
   "source": [
    "## Basic configuration"
   ]
  },
  {
   "cell_type": "code",
   "execution_count": null,
   "id": "67938f34",
   "metadata": {},
   "outputs": [],
   "source": [
    "!pip install aocd"
   ]
  },
  {
   "cell_type": "code",
   "execution_count": 1,
   "id": "f9d98ade",
   "metadata": {},
   "outputs": [],
   "source": [
    "import os\n",
    "\n",
    "os.environ['AOC_SESSION'] = open('session.txt').read().strip()\n",
    "\n",
    "from aocd import submit\n",
    "from aocd.models import Puzzle"
   ]
  },
  {
   "cell_type": "markdown",
   "id": "1867ef79",
   "metadata": {},
   "source": [
    "## Day 23\n",
    "https://adventofcode.com/2023/day/23\n",
    "### Part 1"
   ]
  },
  {
   "cell_type": "code",
   "execution_count": null,
   "id": "8544afbc",
   "metadata": {},
   "outputs": [],
   "source": [
    "puzzle = Puzzle(2023, 23)"
   ]
  },
  {
   "cell_type": "markdown",
   "id": "db2f69ab",
   "metadata": {},
   "source": [
    "## Day 22\n",
    "https://adventofcode.com/2023/day/22\n",
    "### Part 1"
   ]
  },
  {
   "cell_type": "code",
   "execution_count": null,
   "id": "a56e96ca",
   "metadata": {},
   "outputs": [],
   "source": [
    "puzzle = Puzzle(2023, 22)"
   ]
  },
  {
   "cell_type": "markdown",
   "id": "6776ae62",
   "metadata": {},
   "source": [
    "## Day 21\n",
    "https://adventofcode.com/2023/day/21\n",
    "### Part 1"
   ]
  },
  {
   "cell_type": "code",
   "execution_count": null,
   "id": "3fee5165",
   "metadata": {},
   "outputs": [],
   "source": [
    "puzzle = Puzzle(2023, 21)"
   ]
  },
  {
   "cell_type": "markdown",
   "id": "d1cfa124",
   "metadata": {},
   "source": [
    "### Part 2"
   ]
  },
  {
   "cell_type": "markdown",
   "id": "3e923dd1",
   "metadata": {},
   "source": [
    "## Day 20\n",
    "https://adventofcode.com/2023/day/20\n",
    "### Part 1"
   ]
  },
  {
   "cell_type": "code",
   "execution_count": null,
   "id": "9bcb0be9",
   "metadata": {},
   "outputs": [],
   "source": [
    "puzzle = Puzzle(2023, 20)"
   ]
  },
  {
   "cell_type": "markdown",
   "id": "5074e63b",
   "metadata": {},
   "source": [
    "### Part 2"
   ]
  },
  {
   "cell_type": "markdown",
   "id": "b4dc0f48",
   "metadata": {},
   "source": [
    "## Day 19\n",
    "https://adventofcode.com/2023/day/19\n",
    "### Part 1"
   ]
  },
  {
   "cell_type": "code",
   "execution_count": null,
   "id": "5a9b3e2b",
   "metadata": {},
   "outputs": [],
   "source": [
    "puzzle = Puzzle(2023, 19)"
   ]
  },
  {
   "cell_type": "markdown",
   "id": "cc499de7",
   "metadata": {},
   "source": [
    "### Part 2"
   ]
  },
  {
   "cell_type": "markdown",
   "id": "81dcde6e",
   "metadata": {},
   "source": [
    "## Day 18\n",
    "https://adventofcode.com/2023/day/18\n",
    "### Part 1"
   ]
  },
  {
   "cell_type": "code",
   "execution_count": null,
   "id": "8ba434a8",
   "metadata": {},
   "outputs": [],
   "source": [
    "puzzle = Puzzle(2023, 18)"
   ]
  },
  {
   "cell_type": "markdown",
   "id": "07c7982c",
   "metadata": {},
   "source": [
    "### Part 2"
   ]
  },
  {
   "cell_type": "markdown",
   "id": "a62a3d78",
   "metadata": {},
   "source": [
    "## Day 17\n",
    "https://adventofcode.com/2023/day/17\n",
    "### Part 1"
   ]
  },
  {
   "cell_type": "code",
   "execution_count": null,
   "id": "c3b39b56",
   "metadata": {},
   "outputs": [],
   "source": [
    "puzzle = Puzzle(2023, 17)"
   ]
  },
  {
   "cell_type": "markdown",
   "id": "5a79f8f6",
   "metadata": {},
   "source": [
    "### Part 2"
   ]
  },
  {
   "cell_type": "markdown",
   "id": "72df1ef5",
   "metadata": {},
   "source": [
    "### Extra"
   ]
  },
  {
   "cell_type": "markdown",
   "id": "3fe14be0",
   "metadata": {},
   "source": [
    "## Day 16\n",
    "https://adventofcode.com/2023/day/16\n",
    "### Part 1"
   ]
  },
  {
   "cell_type": "code",
   "execution_count": null,
   "id": "81d4e25f",
   "metadata": {},
   "outputs": [],
   "source": [
    "puzzle = Puzzle(2023, 16)"
   ]
  },
  {
   "cell_type": "markdown",
   "id": "0efd30a8",
   "metadata": {},
   "source": [
    "### Part 2"
   ]
  },
  {
   "cell_type": "markdown",
   "id": "7d94d64d",
   "metadata": {},
   "source": [
    "## Day 15\n",
    "https://adventofcode.com/2023/day/15\n",
    "### Part 1"
   ]
  },
  {
   "cell_type": "code",
   "execution_count": null,
   "id": "ef37ea63",
   "metadata": {},
   "outputs": [],
   "source": [
    "puzzle = Puzzle(2023, 15)"
   ]
  },
  {
   "cell_type": "markdown",
   "id": "6f4797a2",
   "metadata": {},
   "source": [
    "### Part 2"
   ]
  },
  {
   "cell_type": "markdown",
   "id": "e048706f",
   "metadata": {},
   "source": [
    "## Day 14\n",
    "https://adventofcode.com/2023/day/14\n",
    "### Part 1"
   ]
  },
  {
   "cell_type": "code",
   "execution_count": null,
   "id": "476816e0",
   "metadata": {},
   "outputs": [],
   "source": [
    "puzzle = Puzzle(2023, 14)"
   ]
  },
  {
   "cell_type": "markdown",
   "id": "8a28638f",
   "metadata": {},
   "source": [
    "### Part 2"
   ]
  },
  {
   "cell_type": "markdown",
   "id": "1163a0c5",
   "metadata": {},
   "source": [
    "## Day 13\n",
    "https://adventofcode.com/2023/day/13\n",
    "### Part 1"
   ]
  },
  {
   "cell_type": "code",
   "execution_count": null,
   "id": "57108c0a",
   "metadata": {},
   "outputs": [],
   "source": [
    "puzzle = Puzzle(2023, 13)"
   ]
  },
  {
   "cell_type": "markdown",
   "id": "1038c61d",
   "metadata": {},
   "source": [
    "### Part 2"
   ]
  },
  {
   "cell_type": "markdown",
   "id": "a682a27a",
   "metadata": {},
   "source": [
    "## Day 12\n",
    "https://adventofcode.com/2023/day/12\n",
    "### Part 1"
   ]
  },
  {
   "cell_type": "code",
   "execution_count": null,
   "id": "66b3601e",
   "metadata": {},
   "outputs": [],
   "source": [
    "puzzle = Puzzle(2023, 12)\n",
    "lines = puzzle.input_data.split('\\n')"
   ]
  },
  {
   "cell_type": "markdown",
   "id": "ea3ddff2",
   "metadata": {},
   "source": [
    "### Part 1 (old, a la mano)"
   ]
  },
  {
   "cell_type": "markdown",
   "id": "2b887d43",
   "metadata": {},
   "source": [
    "### Part 2"
   ]
  },
  {
   "cell_type": "markdown",
   "id": "d2be259b",
   "metadata": {},
   "source": [
    "## Day 11\n",
    "https://adventofcode.com/2023/day/11\n",
    "### Part 1"
   ]
  },
  {
   "cell_type": "code",
   "execution_count": null,
   "id": "c54b8f5e",
   "metadata": {},
   "outputs": [],
   "source": [
    "puzzle = Puzzle(2023, 11)"
   ]
  },
  {
   "cell_type": "markdown",
   "id": "3d2913da",
   "metadata": {},
   "source": [
    "### Part 2"
   ]
  },
  {
   "cell_type": "markdown",
   "id": "d5109e59",
   "metadata": {},
   "source": [
    "## Day 10\n",
    "https://adventofcode.com/2023/day/10\n",
    "### Part 1"
   ]
  },
  {
   "cell_type": "code",
   "execution_count": null,
   "id": "5aa2d8c4",
   "metadata": {},
   "outputs": [],
   "source": [
    "puzzle = Puzzle(2023, 10)"
   ]
  },
  {
   "cell_type": "markdown",
   "id": "0d3ac075",
   "metadata": {},
   "source": [
    "### Part 2"
   ]
  },
  {
   "cell_type": "markdown",
   "id": "3b5f93e6",
   "metadata": {},
   "source": [
    "## Day 9\n",
    "https://adventofcode.com/2023/day/9\n",
    "### Part 1"
   ]
  },
  {
   "cell_type": "code",
   "execution_count": null,
   "id": "2466da91",
   "metadata": {},
   "outputs": [],
   "source": [
    "puzzle = Puzzle(2023, 9)"
   ]
  },
  {
   "cell_type": "markdown",
   "id": "1e4a5bce",
   "metadata": {},
   "source": [
    "### Part 2"
   ]
  },
  {
   "cell_type": "markdown",
   "id": "50ceba4c",
   "metadata": {},
   "source": [
    "### Extra"
   ]
  },
  {
   "cell_type": "markdown",
   "id": "32daee6b",
   "metadata": {},
   "source": [
    "## Day 8\n",
    "https://adventofcode.com/2023/day/8\n",
    "### Part 1"
   ]
  },
  {
   "cell_type": "code",
   "execution_count": null,
   "id": "3ae74ba8",
   "metadata": {},
   "outputs": [],
   "source": [
    "puzzle = Puzzle(2023, 8)"
   ]
  },
  {
   "cell_type": "markdown",
   "id": "061785fb",
   "metadata": {},
   "source": [
    "### Part 2"
   ]
  },
  {
   "cell_type": "markdown",
   "id": "89cc70f5",
   "metadata": {},
   "source": [
    "### Extra"
   ]
  },
  {
   "cell_type": "markdown",
   "id": "fcd42fdd",
   "metadata": {},
   "source": [
    "## Day 7\n",
    "https://adventofcode.com/2023/day/7\n",
    "### Part 1"
   ]
  },
  {
   "cell_type": "code",
   "execution_count": null,
   "id": "c0a48b94",
   "metadata": {},
   "outputs": [],
   "source": [
    "puzzle = Puzzle(2023, 7)"
   ]
  },
  {
   "cell_type": "markdown",
   "id": "5ee5e0b6",
   "metadata": {},
   "source": [
    "### Part 2"
   ]
  },
  {
   "cell_type": "markdown",
   "id": "18cb765f",
   "metadata": {},
   "source": [
    "### Part 2"
   ]
  },
  {
   "cell_type": "markdown",
   "id": "fdb1635c",
   "metadata": {},
   "source": [
    "## Day 6\n",
    "https://adventofcode.com/2023/day/6\n",
    "### Part 1"
   ]
  },
  {
   "cell_type": "code",
   "execution_count": null,
   "id": "b1de3906",
   "metadata": {},
   "outputs": [],
   "source": [
    "puzzle = Puzzle(2023, 6)"
   ]
  },
  {
   "cell_type": "markdown",
   "id": "85992930",
   "metadata": {},
   "source": [
    "### Part 2"
   ]
  },
  {
   "cell_type": "markdown",
   "id": "cb23cbc0",
   "metadata": {},
   "source": [
    "## Day 5\n",
    "https://adventofcode.com/2023/day/5\n",
    "### Part 1"
   ]
  },
  {
   "cell_type": "code",
   "execution_count": 2,
   "id": "026b1a0f",
   "metadata": {},
   "outputs": [],
   "source": [
    "puzzle = Puzzle(2023, 5)\n",
    "parts = puzzle.input_data.split('\\n\\n')"
   ]
  },
  {
   "cell_type": "code",
   "execution_count": 3,
   "id": "9f1e0941",
   "metadata": {},
   "outputs": [],
   "source": [
    "import re\n",
    "\n",
    "def parse_input(parts):\n",
    "    steps = []\n",
    "\n",
    "    seeds = [int(nb) for nb in re.findall(r\"(\\d+)\", parts[0])]\n",
    "\n",
    "    for part in parts[1:]:\n",
    "        steps.append([list(map(lambda val: int(val), re.findall(r\"(\\d+)\", line))) for line in part.split('\\n')[1:]])\n",
    "    \n",
    "    return seeds, steps"
   ]
  },
  {
   "cell_type": "code",
   "execution_count": null,
   "id": "d032b53e",
   "metadata": {},
   "outputs": [],
   "source": [
    "def propagate(seeds, steps):\n",
    "\n",
    "    for step in steps:\n",
    "        new_seeds = []\n",
    "        for seed in seeds:\n",
    "            for dst_rs, src_rs, span in step:\n",
    "                if src_rs <= seed < src_rs + span:\n",
    "                    new_seeds.append(seed - src_rs + dst_rs)\n",
    "                    break\n",
    "            else:\n",
    "                new_seeds.append(seed)\n",
    "        seeds = new_seeds\n",
    "    return seeds"
   ]
  },
  {
   "cell_type": "code",
   "execution_count": null,
   "id": "d5cbea53",
   "metadata": {},
   "outputs": [],
   "source": [
    "seeds, steps = parse_input(parts)\n",
    "seeds = propagate(seeds, steps)"
   ]
  },
  {
   "cell_type": "code",
   "execution_count": null,
   "id": "a444f87f",
   "metadata": {},
   "outputs": [],
   "source": [
    "puzzle.answer_a = min(seeds)"
   ]
  },
  {
   "cell_type": "markdown",
   "id": "b108d9e0",
   "metadata": {},
   "source": [
    "### Part 2"
   ]
  },
  {
   "cell_type": "code",
   "execution_count": 25,
   "id": "e2313dd9",
   "metadata": {},
   "outputs": [],
   "source": [
    "parts = \"\"\"seeds: 79 14 55 13\n",
    "\n",
    "seed-to-soil map:\n",
    "50 98 2\n",
    "52 50 48\n",
    "\n",
    "soil-to-fertilizer map:\n",
    "0 15 37\n",
    "37 52 2\n",
    "39 0 15\n",
    "\n",
    "fertilizer-to-water map:\n",
    "49 53 8\n",
    "0 11 42\n",
    "42 0 7\n",
    "57 7 4\n",
    "\n",
    "water-to-light map:\n",
    "88 18 7\n",
    "18 25 70\n",
    "\n",
    "light-to-temperature map:\n",
    "45 77 23\n",
    "81 45 19\n",
    "68 64 13\n",
    "\n",
    "temperature-to-humidity map:\n",
    "0 69 1\n",
    "1 0 69\n",
    "\n",
    "humidity-to-location map:\n",
    "60 56 37\n",
    "56 93 4\"\"\".split('\\n\\n')"
   ]
  },
  {
   "cell_type": "code",
   "execution_count": 5,
   "id": "a5e07acf",
   "metadata": {},
   "outputs": [],
   "source": []
  },
  {
   "cell_type": "code",
   "execution_count": null,
   "id": "f5e97ae7",
   "metadata": {},
   "outputs": [],
   "source": [
    "ranges = [(sstart, sstart + length - 1) for sstart, length in zip(seeds[:-1], seeds[1:])]\n",
    "\n",
    "for step in steps:\n",
    "    new_ranges = []\n",
    "    print(step)\n",
    "    for current_range in ranges:\n",
    "        for dst_rs, src_rs, span in step:\n",
    "            print(dst_rs, src_rs, span)\n",
    "            src_range = (src_rs, src_rs+span)\n",
    "            delta = dst_rs - src_rs\n",
    "            print(\"range\", src_range, delta)\n",
    "            \n",
    "            \n",
    "            new_ranges.extend(intersect(current_range, src_range, delta))\n",
    "\n",
    "    print(\"ranges\", ranges, new_ranges)\n",
    "    ranges = list(set(new_ranges))\n",
    "    print(len(ranges))\n",
    "    break\n"
   ]
  },
  {
   "cell_type": "code",
   "execution_count": null,
   "id": "b6dd5edc",
   "metadata": {},
   "outputs": [],
   "source": [
    "ranges = [(sstart, sstart + length - 1) for sstart, length in zip(seeds[:-1], seeds[1:])]\n",
    "\n",
    "ranges"
   ]
  },
  {
   "cell_type": "code",
   "execution_count": null,
   "id": "9fd70f49",
   "metadata": {},
   "outputs": [],
   "source": [
    "for step in steps:\n",
    "\n",
    "    new_seeds = []\n",
    "\n",
    "    for rs, re in ranges:\n",
    "\n",
    "        print(\"seeds\", rs, re)\n",
    "\n",
    "\n",
    "\n",
    "        stop = False\n",
    "\n",
    "        idx_step = 0\n",
    "\n",
    "        ssteps = sorted(step, key=lambda t: t[1])\n",
    "\n",
    "        while not stop:\n",
    "            while idx_step < len(ssteps):\n",
    "\n",
    "                (dst_rs, src_rs, span) = ssteps[idx_step]\n",
    "\n",
    "                ds, de = src_rs, src_rs + span\n",
    "                delta = dst_rs - src_rs\n",
    "                print(\"range\", ds, de, delta)\n",
    "\n",
    "                if rs < ds:\n",
    "                    if re < ds:\n",
    "                        print('case 1')\n",
    "                        # non overlapping, exit\n",
    "                        new_seeds.append((rs, re))\n",
    "                        stop = True\n",
    "                        break\n",
    "                    else:\n",
    "                        # first cross\n",
    "                        print('case 2')\n",
    "                        new_seeds.append((rs, ds - 1))\n",
    "                        rs = ds\n",
    "                else:\n",
    "                    if rs > de:\n",
    "                        print('case 3')\n",
    "                        if idx_step == len(ssteps) - 1:\n",
    "                            new_seeds.append((rs, re))\n",
    "                            stop = True\n",
    "                            break\n",
    "                        else:\n",
    "                            idx_step += 1\n",
    "                    if re <= de:\n",
    "                        print('case 4')\n",
    "                        new_seeds.append((rs+delta, re+delta))\n",
    "                        stop = True\n",
    "                        break\n",
    "                    else:\n",
    "                        print('case 5')\n",
    "                        new_seeds.append((rs+delta, de+delta))\n",
    "                        rs = de + 1\n",
    "                        idx_step += 1\n",
    "        print(new_seeds)\n",
    "\n",
    "    ranges = new_seeds"
   ]
  },
  {
   "cell_type": "code",
   "execution_count": null,
   "id": "83ed0a4a",
   "metadata": {},
   "outputs": [],
   "source": [
    "def intersect(r1, r2, delta):\n",
    "    (r1_s, r1_e), (r2_s, r2_e) = r1, r2\n",
    "    \n",
    "    if r1_e < r2_s or r1_s > r2_e:\n",
    "        return [r1]\n",
    "\n",
    "    if r1_s <= r2_s:\n",
    "        if r1_e <= r2_e:\n",
    "            if r1_s == r2_s:\n",
    "                return [(r1_s+delta, r1_e+delta)]\n",
    "            return [(r1_s, r2_s - 1), (r2_s+delta, r1_e+delta)]\n",
    "        else:\n",
    "            if r1_s == r2_s:\n",
    "                if r1_e == r2_e:\n",
    "                    return [(r1_s+delta, r1_e+delta)]\n",
    "                else:\n",
    "                    return [(r1_s+delta, r2_e+delta), (r2_e+1, r1_e)]\n",
    "            return [(r1_s, r2_s - 1), (r1_s+delta, r2_e+delta), (r2_e+1, r1_e)]\n",
    "    else:\n",
    "        if r1_e <= r2_e:\n",
    "            return [(r1_s + delta, r1_e + delta)]\n",
    "        else:\n",
    "            return [(r1_s + delta, r2_e + delta), (r2_e + 1, r1_e)]\n",
    "        \n",
    "        \n",
    "step"
   ]
  },
  {
   "cell_type": "code",
   "execution_count": 14,
   "id": "e265e519",
   "metadata": {},
   "outputs": [
    {
     "data": {
      "text/plain": [
       "(7, 8)"
      ]
     },
     "execution_count": 14,
     "metadata": {},
     "output_type": "execute_result"
    }
   ],
   "source": [
    "intersect((6, 8), (7, 20))"
   ]
  },
  {
   "cell_type": "code",
   "execution_count": 6,
   "id": "d443b15e",
   "metadata": {},
   "outputs": [],
   "source": [
    "def intersect(r1, r2):\n",
    "    (r1_s, r1_e), (r2_s, r2_e) = r1, r2\n",
    "    \n",
    "    if r1_s > r2_e or r1_e < r2_s:\n",
    "        return ()\n",
    "    \n",
    "    return (max(r1_s, r2_s), min(r1_e, r2_e))\n"
   ]
  },
  {
   "cell_type": "code",
   "execution_count": 23,
   "id": "45799b71",
   "metadata": {},
   "outputs": [],
   "source": [
    "\n",
    "def compute_sections(ss, se, step):\n",
    "    \n",
    "    sections = []\n",
    "\n",
    "    for (dst_rs, src_rs, span) in sorted(step, key=lambda t: t[1]):\n",
    "        ds, de = src_rs, src_rs + span\n",
    "        delta = dst_rs - src_rs\n",
    "\n",
    "        inter = intersect((ss, se), (ds, de))\n",
    "        if inter:\n",
    "            sections.append((inter, delta))\n",
    "            \n",
    "    return sections\n",
    "\n",
    "\n",
    "def propagate_forward(ss, se, sections):\n",
    "    new_seeds = []\n",
    "\n",
    "    for ((section_start, section_end), delta) in sections:\n",
    "        if ss < section_start:\n",
    "            new_seeds.append((ss, section_start-1))\n",
    "        print(section_start, section_end, delta)\n",
    "        new_seeds.append((section_start+delta, section_end+delta))\n",
    "\n",
    "        ss = section_end + 1\n",
    "\n",
    "    if ss < se:\n",
    "        new_seeds.append((ss, se))\n",
    "        \n",
    "    return new_seeds\n",
    "\n"
   ]
  },
  {
   "cell_type": "code",
   "execution_count": 27,
   "id": "d0996adc",
   "metadata": {},
   "outputs": [
    {
     "name": "stdout",
     "output_type": "stream",
     "text": [
      "79 92 2\n",
      "50 68 2\n",
      "55 67 2\n",
      "[(81, 94), (14, 49), (52, 70), (57, 69)]\n",
      "14 15 39\n",
      "15 49 -15\n",
      "52 52 -15\n",
      "52 54 -15\n",
      "[(81, 94), (53, 54), (0, 34), (37, 37), (37, 39), (55, 70), (57, 69)]\n",
      "53 53 -11\n",
      "53 54 -4\n",
      "0 7 42\n",
      "7 11 50\n",
      "11 34 -11\n",
      "37 37 -11\n",
      "37 39 -11\n",
      "55 61 -4\n",
      "57 61 -4\n",
      "[(81, 94), (42, 42), (49, 50), (42, 49), (57, 61), (0, 23), (26, 26), (26, 28), (51, 57), (62, 70), (53, 57), (62, 69)]\n",
      "81 94 -7\n",
      "42 42 -7\n",
      "49 50 -7\n",
      "42 49 -7\n",
      "57 61 -7\n",
      "18 23 70\n",
      "26 26 -7\n",
      "26 28 -7\n",
      "51 57 -7\n",
      "62 70 -7\n",
      "53 57 -7\n",
      "62 69 -7\n",
      "[(74, 87), (35, 35), (42, 43), (35, 42), (50, 54), (0, 17), (88, 93), (19, 19), (19, 21), (44, 50), (55, 63), (46, 50), (55, 62)]\n",
      "74 77 4\n",
      "77 87 -32\n",
      "50 54 36\n",
      "88 93 -32\n",
      "45 50 36\n",
      "55 63 36\n",
      "46 50 36\n",
      "55 62 36\n",
      "[(78, 81), (45, 55), (42, 43), (35, 42), (86, 90), (0, 17), (56, 61), (19, 21), (44, 44), (81, 86), (91, 99), (82, 86), (91, 98)]\n",
      "45 55 1\n",
      "42 43 1\n",
      "35 42 1\n",
      "0 17 1\n",
      "56 61 1\n",
      "19 21 1\n",
      "44 44 1\n",
      "[(78, 81), (46, 56), (43, 44), (36, 43), (86, 90), (1, 18), (57, 62), (20, 22), (45, 45), (81, 86), (91, 99), (82, 86), (91, 98)]\n",
      "78 81 4\n",
      "56 56 4\n",
      "86 90 4\n",
      "57 62 4\n",
      "81 86 4\n",
      "91 93 4\n",
      "93 97 -37\n",
      "82 86 4\n",
      "91 93 4\n",
      "93 97 -37\n",
      "[(82, 85), (46, 55), (60, 60), (43, 44), (36, 43), (90, 94), (1, 18), (61, 66), (20, 22), (85, 90), (95, 97), (56, 60), (98, 99), (86, 90), (95, 97), (56, 60)]\n"
     ]
    }
   ],
   "source": [
    "seeds, steps = parse_input(parts)\n",
    "ranges = [(sstart, sstart + length - 1) for sstart, length in zip(seeds[:-1], seeds[1:])]\n",
    "\n",
    "for step in steps:\n",
    "    new_ranges = []\n",
    "\n",
    "    for ss, se in ranges:\n",
    "        sections = compute_sections(ss, se, step)\n",
    "        new_ranges.extend(propagate_forward(ss, se, sections))\n",
    "        \n",
    "    print(new_ranges)\n",
    "\n",
    "    ranges = new_ranges"
   ]
  },
  {
   "cell_type": "code",
   "execution_count": 28,
   "id": "51484b25",
   "metadata": {},
   "outputs": [
    {
     "data": {
      "text/plain": [
       "1"
      ]
     },
     "execution_count": 28,
     "metadata": {},
     "output_type": "execute_result"
    }
   ],
   "source": [
    "min(rs for rs, _ in ranges)"
   ]
  },
  {
   "cell_type": "code",
   "execution_count": 16,
   "id": "a6515eff",
   "metadata": {},
   "outputs": [
    {
     "data": {
      "text/plain": [
       "[(81, 94)]"
      ]
     },
     "execution_count": 16,
     "metadata": {},
     "output_type": "execute_result"
    }
   ],
   "source": [
    "new_seeds"
   ]
  },
  {
   "cell_type": "code",
   "execution_count": 14,
   "id": "e6c08965",
   "metadata": {},
   "outputs": [
    {
     "data": {
      "text/plain": [
       "[(81, 94)]"
      ]
     },
     "execution_count": 14,
     "metadata": {},
     "output_type": "execute_result"
    }
   ],
   "source": [
    "\n",
    "new_seeds"
   ]
  },
  {
   "cell_type": "code",
   "execution_count": 11,
   "id": "2b0bccc8",
   "metadata": {},
   "outputs": [
    {
     "data": {
      "text/plain": [
       "[((79, 92), 2)]"
      ]
     },
     "execution_count": 11,
     "metadata": {},
     "output_type": "execute_result"
    }
   ],
   "source": [
    "sections"
   ]
  },
  {
   "cell_type": "code",
   "execution_count": null,
   "id": "d65ed53c",
   "metadata": {},
   "outputs": [],
   "source": []
  },
  {
   "cell_type": "code",
   "execution_count": null,
   "id": "c59c53d7",
   "metadata": {},
   "outputs": [],
   "source": [
    "from tqdm import tqdm\n",
    "\n",
    "minimums = []\n",
    "\n",
    "for sstart, length in tqdm(zip(seeds[:-1], seeds[1:])):\n",
    "    print(sstart, length)\n",
    "    minimums.append(propagate(range(sstart, length), steps))"
   ]
  },
  {
   "cell_type": "code",
   "execution_count": null,
   "id": "27fc23a7",
   "metadata": {},
   "outputs": [],
   "source": [
    "seeds"
   ]
  },
  {
   "cell_type": "markdown",
   "id": "9008ba61",
   "metadata": {},
   "source": [
    "## Day 4\n",
    "https://adventofcode.com/2023/day/4\n",
    "### Part 1"
   ]
  },
  {
   "cell_type": "code",
   "execution_count": null,
   "id": "ccf9156c",
   "metadata": {},
   "outputs": [],
   "source": [
    "puzzle = Puzzle(2023, 4)\n",
    "lines = puzzle.input_data.split('\\n')"
   ]
  },
  {
   "cell_type": "code",
   "execution_count": null,
   "id": "93440488",
   "metadata": {},
   "outputs": [],
   "source": [
    "import re\n",
    "\n",
    "def parse_line(line):\n",
    "    id_, win_nb, my_nb = re.match(r\"Card\\s+(\\d+):(.*?)\\|(.*)\", line).groups()\n",
    "    common = set(int(nb) for nb in re.findall(\"(\\d+)\", win_nb)) & set(int(nb) for nb in re.findall(\"(\\d+)\", my_nb))\n",
    "    return int(id_), common\n",
    "\n",
    "def score_line(line):\n",
    "    _, common = parse_line(line)\n",
    "    return 2**(len(common)-1) if common else 0\n"
   ]
  },
  {
   "cell_type": "code",
   "execution_count": null,
   "id": "117f63a9",
   "metadata": {},
   "outputs": [],
   "source": [
    "puzzle.answer_a = sum(score_line(line) for line in lines)"
   ]
  },
  {
   "cell_type": "markdown",
   "id": "36669534",
   "metadata": {},
   "source": [
    "### Part 2"
   ]
  },
  {
   "cell_type": "code",
   "execution_count": null,
   "id": "1d6fd1fe",
   "metadata": {},
   "outputs": [],
   "source": [
    "from collections import Counter\n",
    "\n",
    "def count_line(line):\n",
    "    id_, common = parse_line(line)\n",
    "    return id_, len(common)\n",
    "\n",
    "\n",
    "max_cid = len(lines)+1\n",
    "\n",
    "count = Counter(range(1, max_cid))\n",
    "\n",
    "for line in lines:\n",
    "    cid, score = count_line(line)\n",
    "    for next_id in range(cid+1, cid+score+1):\n",
    "        if next_id <= max_cid:\n",
    "            count[next_id] += count[cid]"
   ]
  },
  {
   "cell_type": "code",
   "execution_count": null,
   "id": "6e74c405",
   "metadata": {},
   "outputs": [],
   "source": [
    "puzzle.answer_b = sum(count.values())"
   ]
  },
  {
   "cell_type": "markdown",
   "id": "c00d46e9",
   "metadata": {},
   "source": [
    "## Day 3\n",
    "https://adventofcode.com/2023/day/3\n",
    "### Part 1"
   ]
  },
  {
   "cell_type": "code",
   "execution_count": null,
   "id": "4e5e73b9",
   "metadata": {},
   "outputs": [],
   "source": [
    "puzzle = Puzzle(2023, 3)\n",
    "lines = puzzle.input_data.split('\\n')"
   ]
  },
  {
   "cell_type": "code",
   "execution_count": null,
   "id": "e8207a65",
   "metadata": {},
   "outputs": [],
   "source": [
    "import re\n",
    "from collections import defaultdict\n",
    "\n",
    "symbols = defaultdict(lambda : defaultdict(int))\n",
    "\n",
    "numbers = []\n",
    "\n",
    "for ridx, line in enumerate(lines):\n",
    "    for match in re.finditer(r\"(\\d+)\", line):\n",
    "        numbers.append((int(match.groups()[0]), ridx, match.start(), match.end()))\n",
    "        \n",
    "    for cidx, char in enumerate(line):\n",
    "        if not re.match(r\"\\.|[0-9]\", char):\n",
    "            symbols[ridx][cidx] = 1"
   ]
  },
  {
   "cell_type": "code",
   "execution_count": null,
   "id": "5fe55da9",
   "metadata": {},
   "outputs": [],
   "source": [
    "s = 0\n",
    "\n",
    "for nb, ridx, cstart, cend in numbers:\n",
    "    if sum(symbols[row][col] for row in range(ridx-1, ridx+2) for col in range(cstart-1, cend+1)) > 0:\n",
    "        s += nb"
   ]
  },
  {
   "cell_type": "code",
   "execution_count": null,
   "id": "4f78f9a0",
   "metadata": {},
   "outputs": [],
   "source": [
    "puzzle.answer_a = s"
   ]
  },
  {
   "cell_type": "markdown",
   "id": "f2b627b4",
   "metadata": {},
   "source": [
    "### Part 2"
   ]
  },
  {
   "cell_type": "code",
   "execution_count": null,
   "id": "aa184bad",
   "metadata": {},
   "outputs": [],
   "source": [
    "nb_map = {(nb, row, cstart): set([(row, col) for col in range(cstart, cend)]) for nb, row, cstart, cend in numbers }\n",
    "\n",
    "gear_map = []\n",
    "for ridx, line in enumerate(lines):\n",
    "    for cidx, char in enumerate(line):\n",
    "        if char == '*':\n",
    "            gear_map.append(set([(row, col) for row in range(ridx-1, ridx+2) for col in range(cidx-1, cidx+2)]))"
   ]
  },
  {
   "cell_type": "code",
   "execution_count": null,
   "id": "16a506cd",
   "metadata": {},
   "outputs": [],
   "source": [
    "s = 0\n",
    "for gear_set in gear_map:\n",
    "    gear_numbers = [nb for ((nb, _, _), nb_set) in nb_map.items() if nb_set & gear_set]\n",
    "    if len(gear_numbers) == 2:\n",
    "        s += gear_numbers[0]*gear_numbers[1]"
   ]
  },
  {
   "cell_type": "code",
   "execution_count": null,
   "id": "71d8ff59",
   "metadata": {},
   "outputs": [],
   "source": [
    "puzzle.answer_b = s"
   ]
  },
  {
   "cell_type": "markdown",
   "id": "9b910d15",
   "metadata": {},
   "source": [
    "## Day 2\n",
    "https://adventofcode.com/2023/day/2\n",
    "### Part 1"
   ]
  },
  {
   "cell_type": "code",
   "execution_count": null,
   "id": "84fdf174",
   "metadata": {},
   "outputs": [],
   "source": [
    "puzzle = Puzzle(2023, 2)\n",
    "lines = puzzle.input_data.split('\\n')"
   ]
  },
  {
   "cell_type": "code",
   "execution_count": null,
   "id": "d0055722",
   "metadata": {},
   "outputs": [],
   "source": [
    "import re\n",
    "\n",
    "balls = {'red': 12, 'green': 13, 'blue': 14}\n",
    "\n",
    "def game_valid(line):\n",
    "    id_, games = re.match(r\"Game (\\d+):(.*)\", line).groups()\n",
    "    valid = not any(any(int(nb_) > balls[color] for (_, nb_, color) in re.findall(r\"((\\d+) (red|green|blue))\", draw)) for draw in games.split(';'))\n",
    "    return int(id_), valid"
   ]
  },
  {
   "cell_type": "code",
   "execution_count": null,
   "id": "b66002b4",
   "metadata": {},
   "outputs": [],
   "source": [
    "puzzle.answer_a = sum(id_ for (id_, valid_) in [game_valid(line) for line in lines] if valid_)"
   ]
  },
  {
   "cell_type": "markdown",
   "id": "1876ec15",
   "metadata": {},
   "source": [
    "### Part 2"
   ]
  },
  {
   "cell_type": "code",
   "execution_count": null,
   "id": "7eeccd96",
   "metadata": {},
   "outputs": [],
   "source": [
    "from functools import reduce\n",
    "\n",
    "def game_power(line):\n",
    "    id_, games = re.match(r\"Game (\\d+):(.*)\", line).groups()\n",
    "    return reduce(lambda x, y : x*y, [max( int(count) for (_, count, _) in re.findall(fr\"((\\d+) ({color}))\", line) ) for color in balls.keys()])"
   ]
  },
  {
   "cell_type": "code",
   "execution_count": null,
   "id": "1e749cb9",
   "metadata": {},
   "outputs": [],
   "source": [
    "puzzle.answer_b = sum(game_power(line) for line in lines)"
   ]
  },
  {
   "cell_type": "markdown",
   "id": "637b7e39",
   "metadata": {},
   "source": [
    "## Day 1\n",
    "https://adventofcode.com/2023/day/1\n",
    "### Part 1"
   ]
  },
  {
   "cell_type": "code",
   "execution_count": null,
   "id": "75254cc5",
   "metadata": {},
   "outputs": [],
   "source": [
    "puzzle = Puzzle(2023, 1)"
   ]
  },
  {
   "cell_type": "code",
   "execution_count": null,
   "id": "5c49944d",
   "metadata": {},
   "outputs": [],
   "source": [
    "lines = puzzle.input_data.split('\\n')"
   ]
  },
  {
   "cell_type": "code",
   "execution_count": null,
   "id": "ae667da0",
   "metadata": {},
   "outputs": [],
   "source": [
    "import re\n",
    "\n",
    "s = 0\n",
    "\n",
    "for line in lines:\n",
    "    digits = re.sub(r\"[a-z]\", \"\", line)\n",
    "    s += int(digits[0])*10+int(digits[-1])"
   ]
  },
  {
   "cell_type": "code",
   "execution_count": null,
   "id": "46bebe4a",
   "metadata": {},
   "outputs": [],
   "source": [
    "answer_a = s"
   ]
  },
  {
   "cell_type": "code",
   "execution_count": null,
   "id": "6f442ff8",
   "metadata": {},
   "outputs": [],
   "source": [
    "puzzle.answer_a = answer_a"
   ]
  },
  {
   "cell_type": "markdown",
   "id": "54aaddfe",
   "metadata": {},
   "source": [
    "### Part 2"
   ]
  },
  {
   "cell_type": "code",
   "execution_count": null,
   "id": "15fc9141",
   "metadata": {},
   "outputs": [],
   "source": [
    "!pip install regex"
   ]
  },
  {
   "cell_type": "code",
   "execution_count": null,
   "id": "8153c368",
   "metadata": {},
   "outputs": [],
   "source": [
    "spelled_digits = [\"one\", \"two\", \"three\", \"four\", \"five\", \"six\", \"seven\", \"eight\", \"nine\"]\n",
    "dig_map = {d: idx+1 for idx, d in enumerate(spelled_digits)}"
   ]
  },
  {
   "cell_type": "code",
   "execution_count": null,
   "id": "5b414a7b",
   "metadata": {},
   "outputs": [],
   "source": [
    "import regex\n",
    "\n",
    "s = 0\n",
    "\n",
    "reg = regex.compile(f\"(.*?)(({'|'.join(spelled_digits)})|[1-9])\")\n",
    "\n",
    "for line in lines:\n",
    "    matches = regex.findall(reg, line, overlapped=True)\n",
    "    d0, d1 = matches[0][1], matches[-1][1]\n",
    "    d0 = dig_map[d0] if d0 in dig_map else d0\n",
    "    d1 = dig_map[d1] if d1 in dig_map else d1\n",
    "    s += int(d0)*10 + int(d1)"
   ]
  },
  {
   "cell_type": "code",
   "execution_count": null,
   "id": "0c172ea5",
   "metadata": {},
   "outputs": [],
   "source": [
    "answer_b = s\n",
    "puzzle.answer_b = answer_b"
   ]
  }
 ],
 "metadata": {
  "kernelspec": {
   "display_name": "Python 3 (ipykernel)",
   "language": "python",
   "name": "python3"
  },
  "language_info": {
   "codemirror_mode": {
    "name": "ipython",
    "version": 3
   },
   "file_extension": ".py",
   "mimetype": "text/x-python",
   "name": "python",
   "nbconvert_exporter": "python",
   "pygments_lexer": "ipython3",
   "version": "3.11.5"
  },
  "toc": {
   "base_numbering": 1,
   "nav_menu": {},
   "number_sections": true,
   "sideBar": true,
   "skip_h1_title": false,
   "title_cell": "Table of Contents",
   "title_sidebar": "Contents",
   "toc_cell": false,
   "toc_position": {},
   "toc_section_display": true,
   "toc_window_display": false
  }
 },
 "nbformat": 4,
 "nbformat_minor": 5
}
